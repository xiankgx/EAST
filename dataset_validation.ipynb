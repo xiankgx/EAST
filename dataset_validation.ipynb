{
 "cells": [
  {
   "cell_type": "code",
   "execution_count": 1,
   "metadata": {},
   "outputs": [],
   "source": [
    "import os\n",
    "\n",
    "import imgaug as ia\n",
    "import imgaug.augmenters as iaa\n",
    "\n",
    "import numpy as np\n",
    "import matplotlib.pyplot as plt\n",
    "import cv2\n",
    "\n",
    "from copy import deepcopy\n",
    "\n",
    "from dataset import custom_dataset as custom_dataset, rotate_vertices, deg2rad, cal_distance, Polygon"
   ]
  },
  {
   "cell_type": "code",
   "execution_count": 54,
   "metadata": {},
   "outputs": [],
   "source": [
    "def move_points(vertices, index1, index2, r, coef):\n",
    "    '''move the two points to shrink edge\n",
    "    Input:\n",
    "            vertices: vertices of text region <numpy.ndarray, (8,)>\n",
    "            index1  : offset of point1\n",
    "            index2  : offset of point2\n",
    "            r       : [r1, r2, r3, r4] in paper\n",
    "            coef    : shrink ratio in paper\n",
    "    Output:\n",
    "            vertices: vertices where one edge has been shinked\n",
    "    '''\n",
    "\n",
    "    print(f\">>>move_points: vertices: {vertices}\")\n",
    "    print(f\">>>move_points: index1: {index1}\")\n",
    "    print(f\">>>move_points: index2: {index2}\")\n",
    "    print(f\">>>move_points: r: {r}\")\n",
    "    print(f\">>>move_points: coef: {coef}\")\n",
    "\n",
    "    index1 = index1 % 4\n",
    "    index2 = index2 % 4\n",
    "    x1_index = index1 * 2 + 0\n",
    "    y1_index = index1 * 2 + 1\n",
    "    x2_index = index2 * 2 + 0\n",
    "    y2_index = index2 * 2 + 1\n",
    "\n",
    "    r1 = r[index1]\n",
    "    r2 = r[index2]\n",
    "    length_x = vertices[x1_index] - vertices[x2_index]\n",
    "    length_y = vertices[y1_index] - vertices[y2_index]\n",
    "    length = cal_distance(vertices[x1_index], vertices[y1_index],\n",
    "                          vertices[x2_index], vertices[y2_index])\n",
    "    if length > 1:\n",
    "        ratio_1 = (r1 * coef) / length\n",
    "        ratio_2 = (r2 * coef) / length\n",
    "#         vertices[x1_index] += ratio * (-length_x)\n",
    "#         vertices[y1_index] += ratio * (-length_y)\n",
    "        vertex_1 = np.array([vertices[x1_index], vertices[y1_index]]).astype(np.float32)\n",
    "        vertex_2 = np.array([vertices[x2_index], vertices[y2_index]]).astype(np.float32)\n",
    "        direction_vector = vertex_2 - vertex_1\n",
    "        \n",
    "        vertex_1 += ratio_1 * direction_vector\n",
    "        vertex_2 -= ratio_2 * direction_vector\n",
    "\n",
    "        \n",
    "#         vertices[x2_index] += ratio * length_x\n",
    "#         vertices[y2_index] += ratio * length_y\n",
    "\n",
    "        vertices[x1_index] = vertex_1[0]\n",
    "        vertices[y1_index] = vertex_1[1]\n",
    "        vertices[x2_index] = vertex_2[0]\n",
    "        vertices[y2_index] = vertex_2[1]\n",
    "\n",
    "    return vertices\n",
    "\n",
    "\n",
    "def shrink_poly(vertices, coef: float = 0.3):\n",
    "    '''shrink the text region\n",
    "    Input:\n",
    "            vertices: vertices of text region <numpy.ndarray, (8,)>\n",
    "            coef    : shrink ratio in paper\n",
    "    Output:\n",
    "            v       : vertices of shrinked text region <numpy.ndarray, (8,)>\n",
    "    '''\n",
    "\n",
    "    x1, y1, x2, y2, x3, y3, x4, y4 = vertices\n",
    "\n",
    "    # Eqn. 3\n",
    "    # r1 = min(D(p1, p2), D(p1, p4))\n",
    "    # r2 = min(D(p2, p3), D(p2, p1))\n",
    "    # r3 = min(D(p3, p4), D(p3, p2))\n",
    "    # r4 = min(D(p4, p1), D(p4, p3))\n",
    "    r1 = min(cal_distance(x1, y1, x2, y2), cal_distance(x1, y1, x4, y4))\n",
    "    r2 = min(cal_distance(x2, y2, x1, y1), cal_distance(x2, y2, x3, y3))\n",
    "    r3 = min(cal_distance(x3, y3, x2, y2), cal_distance(x3, y3, x4, y4))\n",
    "    r4 = min(cal_distance(x4, y4, x1, y1), cal_distance(x4, y4, x3, y3))\n",
    "    r = [r1, r2, r3, r4]\n",
    "\n",
    "    # obtain offset to perform move_points() automatically\n",
    "    if cal_distance(x1, y1, x2, y2) + cal_distance(x3, y3, x4, y4) > \\\n",
    "            cal_distance(x2, y2, x3, y3) + cal_distance(x1, y1, x4, y4):\n",
    "        offset = 0  # two longer edges are (x1y1-x2y2) & (x3y3-x4y4)\n",
    "    else:\n",
    "        offset = 1  # two longer edges are (x2y2-x3y3) & (x4y4-x1y1)\n",
    "\n",
    "    v = vertices.copy()\n",
    "    print(f\">>> move point: {0 + offset} and {1 + offset}\")\n",
    "    v = move_points(v, 0 + offset, 1 + offset, r, coef)\n",
    "    print(f\">>> move point: {2 + offset} and {3 + offset}\")\n",
    "    v = move_points(v, 2 + offset, 3 + offset, r, coef)\n",
    "    \n",
    "# #     poly_1 = Polygon(np.array(v).reshape(-1, 2))\n",
    "    \n",
    "    print(f\">>> move point: {3 + offset} and {4 + offset}\")\n",
    "    v = move_points(v, 3 + offset, 4 + offset, r, coef)\n",
    "    print(f\">>> move point: {1 + offset} and {2 + offset}\")\n",
    "    v = move_points(v, 1 + offset, 2 + offset, r, coef)\n",
    "\n",
    "    \n",
    "#     poly_2 = Polygon(np.array(v1).reshape(-1, 2))\n",
    "    \n",
    "#     poly_1.intersection(poly_2).exterior\n",
    "#     return poly_1.intersection(poly_2).exterior\n",
    "    return v"
   ]
  },
  {
   "cell_type": "code",
   "execution_count": 55,
   "metadata": {},
   "outputs": [],
   "source": [
    "poly = [0, 0, 200, 100, 200, 200, 0, 100]\n",
    "# rpoly = rotate_vertices(np.array(poly), deg2rad(30))\n",
    "# rpoly2 = rotate_vertices(np.array(poly), deg2rad(60))\n",
    "# rpoly3 = rotate_vertices(np.array(poly), deg2rad(90))"
   ]
  },
  {
   "cell_type": "code",
   "execution_count": 56,
   "metadata": {},
   "outputs": [
    {
     "name": "stdout",
     "output_type": "stream",
     "text": [
      ">>> move point: 0 and 1\n",
      ">>>move_points: vertices: [0, 0, 200, 100, 200, 200, 0, 100]\n",
      ">>>move_points: index1: 0\n",
      ">>>move_points: index2: 1\n",
      ">>>move_points: r: [100.0, 100.0, 100.0, 100.0]\n",
      ">>>move_points: coef: 0.3\n",
      ">>> move point: 2 and 3\n",
      ">>>move_points: vertices: [26.832815, 13.416408, 173.16719, 86.583595, 200, 200, 0, 100]\n",
      ">>>move_points: index1: 2\n",
      ">>>move_points: index2: 3\n",
      ">>>move_points: r: [100.0, 100.0, 100.0, 100.0]\n",
      ">>>move_points: coef: 0.3\n",
      ">>> move point: 3 and 4\n",
      ">>>move_points: vertices: [26.832815, 13.416408, 173.16719, 86.583595, 173.16719, 186.58359, 26.832815, 113.416405]\n",
      ">>>move_points: index1: 3\n",
      ">>>move_points: index2: 4\n",
      ">>>move_points: r: [100.0, 100.0, 100.0, 100.0]\n",
      ">>>move_points: coef: 0.3\n",
      ">>> move point: 1 and 2\n",
      ">>>move_points: vertices: [26.832815, 43.41641, 173.16719, 86.583595, 173.16719, 186.58359, 26.832815, 83.416405]\n",
      ">>>move_points: index1: 1\n",
      ">>>move_points: index2: 2\n",
      ">>>move_points: r: [100.0, 100.0, 100.0, 100.0]\n",
      ">>>move_points: coef: 0.3\n"
     ]
    }
   ],
   "source": [
    "shrunked_poly = shrink_poly(poly)\n",
    "# shrunked_rpoly = shrink_poly(rpoly)\n",
    "# shrunked_rpoly2 = shrink_poly(rpoly2)\n",
    "# shrunked_rpoly3 = shrink_poly(rpoly3)"
   ]
  },
  {
   "cell_type": "code",
   "execution_count": 57,
   "metadata": {},
   "outputs": [
    {
     "data": {
      "text/plain": [
       "(-10.0, 210.0, -10.0, 210.0)"
      ]
     },
     "execution_count": 57,
     "metadata": {},
     "output_type": "execute_result"
    },
    {
     "data": {
      "image/png": "[encoded data removed]",
      "text/plain": [
       "<Figure size 432x288 with 1 Axes>"
      ]
     },
     "metadata": {
      "needs_background": "light"
     },
     "output_type": "display_data"
    }
   ],
   "source": [
    "plt.scatter(np.array(poly).reshape(-1, 2)[:,0], np.array(poly).reshape(-1, 2)[:,1])\n",
    "# plt.scatter(np.array(rpoly).reshape(-1, 2)[:,0], np.array(rpoly).reshape(-1, 2)[:,1])\n",
    "# plt.scatter(np.array(rpoly2).reshape(-1, 2)[:,0], np.array(rpoly2).reshape(-1, 2)[:,1])\n",
    "# plt.scatter(np.array(rpoly3).reshape(-1, 2)[:,0], np.array(rpoly3).reshape(-1, 2)[:,1])\n",
    "\n",
    "plt.scatter(np.array(shrunked_poly).reshape(-1, 2)[:,0], np.array(shrunked_poly).reshape(-1, 2)[:,1], marker=\"x\")\n",
    "# plt.scatter(np.array(shrunked_rpoly).reshape(-1, 2)[:,0], np.array(shrunked_rpoly).reshape(-1, 2)[:,1], marker=\"x\")\n",
    "# plt.scatter(np.array(shrunked_rpoly2).reshape(-1, 2)[:,0], np.array(shrunked_rpoly2).reshape(-1, 2)[:,1], marker=\"x\")\n",
    "# plt.scatter(np.array(shrunked_rpoly3).reshape(-1, 2)[:,0], np.array(shrunked_rpoly3).reshape(-1, 2)[:,1], marker=\"x\")\n",
    "\n",
    "plt.axis(\"equal\")"
   ]
  },
  {
   "cell_type": "code",
   "execution_count": null,
   "metadata": {},
   "outputs": [],
   "source": []
  },
  {
   "cell_type": "code",
   "execution_count": null,
   "metadata": {},
   "outputs": [],
   "source": []
  },
  {
   "cell_type": "code",
   "execution_count": null,
   "metadata": {},
   "outputs": [],
   "source": [
    "plt.rcParams[\"figure.figsize\"] = 16, 9"
   ]
  },
  {
   "cell_type": "code",
   "execution_count": null,
   "metadata": {},
   "outputs": [],
   "source": [
    "# ICDAR 2015\n",
    "# train_img_path = os.path.abspath('/mnt/9C5E1A4D5E1A2116/datasets/ICDAR_2015/train_img')\n",
    "# train_gt_path = os.path.abspath('/mnt/9C5E1A4D5E1A2116/datasets/ICDAR_2015/train_gt')\n",
    "train_img_path = os.path.abspath('/home/gx/datasets/ICDAR_2015/train_img')\n",
    "train_gt_path = os.path.abspath('/home/gx/datasets/ICDAR_2015/train_gt')\n",
    "\n",
    "# SynthText\n",
    "# train_img_path = os.path.abspath('/mnt/9C5E1A4D5E1A2116/datasets/SynthText/converted/train_img/')\n",
    "# train_gt_path = os.path.abspath('/mnt/9C5E1A4D5E1A2116/datasets/SynthText/converted/train_gt/')"
   ]
  },
  {
   "cell_type": "code",
   "execution_count": null,
   "metadata": {},
   "outputs": [],
   "source": [
    "trainset = custom_dataset(train_img_path, train_gt_path, \n",
    "                          scale=0.25, \n",
    "                          normalization_params={\n",
    "        \"mean\": (0, 0, 0),\n",
    "        \"std\": (1, 1, 1)\n",
    "    })"
   ]
  },
  {
   "cell_type": "code",
   "execution_count": null,
   "metadata": {},
   "outputs": [],
   "source": [
    "# idx = np.random.randint(len(trainset))\n",
    "# image, score, geo, ignored, vertices = trainset[idx]\n",
    "# image = np.array(image)\n",
    "\n",
    "# for v in vertices:\n",
    "#     print(v)\n",
    "#     image = cv2.polylines(image, \n",
    "#                           pts=[v.reshape(-1, 2).astype(np.int32)], \n",
    "#                           isClosed=True, \n",
    "#                           color=(255, 0, 0),\n",
    "#                           thickness=1)\n",
    "    \n",
    "# plt.imshow(image)"
   ]
  },
  {
   "cell_type": "code",
   "execution_count": null,
   "metadata": {},
   "outputs": [],
   "source": [
    "trainset[0]"
   ]
  },
  {
   "cell_type": "code",
   "execution_count": null,
   "metadata": {},
   "outputs": [],
   "source": []
  },
  {
   "cell_type": "code",
   "execution_count": null,
   "metadata": {},
   "outputs": [],
   "source": [
    "idx = np.random.randint(len(trainset))\n",
    "sample = trainset[idx]\n",
    "\n",
    "image = sample[0].permute(1, 2, 0).numpy()\n",
    "plt.imshow(image)"
   ]
  },
  {
   "cell_type": "code",
   "execution_count": null,
   "metadata": {},
   "outputs": [],
   "source": [
    "score_map = sample[1].permute(1, 2, 0).squeeze(-1).numpy()\n",
    "score_map_resized = (cv2.resize(np.stack([score_map, ] * 3, -1), (512, 512), interpolation=cv2.INTER_AREA) * 255.0).astype(np.uint8)\n",
    "plt.imshow((score_map_resized * 0.6 + image * 255.0 * 0.4).astype(np.uint8))"
   ]
  },
  {
   "cell_type": "code",
   "execution_count": null,
   "metadata": {},
   "outputs": [],
   "source": [
    "ignored_map = sample[3].permute(1, 2, 0).squeeze(-1).numpy()\n",
    "ignored_map_resized = (cv2.resize(np.stack([ignored_map, ] * 3, -1), (512, 512)) * 255.0).astype(np.uint8)\n",
    "plt.imshow((ignored_map_resized * 0.6 + image * 255.0 * 0.4).astype(np.uint8))"
   ]
  },
  {
   "cell_type": "code",
   "execution_count": null,
   "metadata": {},
   "outputs": [],
   "source": [
    "geo_map = sample[2].permute(1, 2, 0).squeeze(-1).numpy()\n",
    "plt.imshow(geo_map[..., 0].astype(np.uint8))"
   ]
  },
  {
   "cell_type": "code",
   "execution_count": null,
   "metadata": {},
   "outputs": [],
   "source": [
    "geo_map = sample[2].permute(1, 2, 0).squeeze(-1).numpy()\n",
    "plt.imshow(geo_map[..., 1].astype(np.uint8))"
   ]
  },
  {
   "cell_type": "code",
   "execution_count": null,
   "metadata": {},
   "outputs": [],
   "source": [
    "geo_map = sample[2].permute(1, 2, 0).squeeze(-1).numpy()\n",
    "plt.imshow(geo_map[..., 2].astype(np.uint8))"
   ]
  },
  {
   "cell_type": "code",
   "execution_count": null,
   "metadata": {},
   "outputs": [],
   "source": [
    "geo_map = sample[2].permute(1, 2, 0).squeeze(-1).numpy()\n",
    "plt.imshow(geo_map[..., 3].astype(np.uint8))"
   ]
  },
  {
   "cell_type": "code",
   "execution_count": null,
   "metadata": {},
   "outputs": [],
   "source": [
    "geo_map = sample[2].permute(1, 2, 0).squeeze(-1).numpy()\n",
    "plt.imshow(geo_map[..., 4].astype(np.uint8))"
   ]
  },
  {
   "cell_type": "code",
   "execution_count": null,
   "metadata": {},
   "outputs": [],
   "source": []
  },
  {
   "cell_type": "code",
   "execution_count": null,
   "metadata": {},
   "outputs": [],
   "source": []
  },
  {
   "cell_type": "code",
   "execution_count": null,
   "metadata": {},
   "outputs": [],
   "source": []
  },
  {
   "cell_type": "code",
   "execution_count": null,
   "metadata": {},
   "outputs": [],
   "source": [
    "plt.imshow(score_map)"
   ]
  },
  {
   "cell_type": "code",
   "execution_count": null,
   "metadata": {},
   "outputs": [],
   "source": [
    "ignored_map = sample[3].permute(1, 2, 0).squeeze(-1).numpy()\n",
    "plt.imshow(ignored_map)"
   ]
  },
  {
   "cell_type": "code",
   "execution_count": null,
   "metadata": {},
   "outputs": [],
   "source": []
  }
 ],
 "metadata": {
  "kernelspec": {
   "display_name": "Python 3",
   "language": "python",
   "name": "python3"
  },
  "language_info": {
   "codemirror_mode": {
    "name": "ipython",
    "version": 3
   },
   "file_extension": ".py",
   "mimetype": "text/x-python",
   "name": "python",
   "nbconvert_exporter": "python",
   "pygments_lexer": "ipython3",
   "version": "3.8.2"
  }
 },
 "nbformat": 4,
 "nbformat_minor": 4
}
